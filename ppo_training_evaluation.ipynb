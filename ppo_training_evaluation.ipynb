{
  "cells": [
    {
      "cell_type": "code",
      "execution_count": null,
      "id": "806093d7",
      "metadata": {
        "id": "806093d7"
      },
      "outputs": [],
      "source": [
        "#Download dataset\n",
        "import os\n",
        "RunningInCOLAB = 'google.colab' in str(get_ipython())\n",
        "if RunningInCOLAB:\n",
        "    !wget https://raw.githubusercontent.com/lyft/l5kit/master/examples/setup_notebook_colab.sh -q\n",
        "    !sh ./setup_notebook_colab.sh\n",
        "    os.environ[\"L5KIT_DATA_FOLDER\"] = open(\"./dataset_dir.txt\", \"r\").read().strip()\n",
        "else:\n",
        "    os.environ[\"L5KIT_DATA_FOLDER\"] = \"/tmp/level5_data\"\n",
        "    print(\"Not running in Google Colab.\")"
      ]
    },
    {
      "cell_type": "code",
      "execution_count": null,
      "id": "585b1fe7",
      "metadata": {
        "id": "585b1fe7"
      },
      "outputs": [],
      "source": [
        "#download all dependancies\n",
        "#Use gym for environment\n",
        "import gym\n",
        "\n",
        "#Use stable baselines3 framework for reinforcement learning algorithms \n",
        "from stable_baselines3 import PPO\n",
        "from stable_baselines3.common.callbacks import CheckpointCallback\n",
        "from stable_baselines3.common.env_util import make_vec_env\n",
        "from stable_baselines3.common.utils import get_linear_fn\n",
        "from stable_baselines3.common.vec_env import SubprocVecEnv\n",
        "\n",
        "#Import l5kit tools\n",
        "from l5kit.configs import load_config_data\n",
        "from l5kit.environment.feature_extractor import CustomFeatureExtractor\n",
        "from l5kit.environment.callbacks import L5KitEvalCallback\n",
        "from l5kit.environment.envs.l5_env import SimulationConfigGym\n",
        "\n",
        "from l5kit.visualization.visualizer.zarr_utils import episode_out_to_visualizer_scene_gym_cle\n",
        "from l5kit.visualization.visualizer.visualizer import visualize\n",
        "from bokeh.io import output_notebook, show"
      ]
    },
    {
      "cell_type": "code",
      "execution_count": null,
      "id": "2ea81f77",
      "metadata": {
        "id": "2ea81f77"
      },
      "outputs": [],
      "source": [
        "# Set environment parameters in config file\n",
        "env_config_path = '../gym_config.yaml'\n",
        "cfg = load_config_data(env_config_path)"
      ]
    },
    {
      "cell_type": "code",
      "execution_count": null,
      "id": "b04c8313",
      "metadata": {
        "id": "b04c8313"
      },
      "outputs": [],
      "source": [
        "# Training parameters\n",
        "train_eps_length = 32\n",
        "train_envs = 4\n",
        "\n",
        "# Evaluation parameters\n",
        "eval_eps_length = None\n",
        "eval_envs = 1\n",
        "\n",
        "# make train env\n",
        "train_sim_cfg = SimulationConfigGym()\n",
        "train_sim_cfg.num_simulation_steps = train_eps_length + 1\n",
        "env_kwargs = {'env_config_path': env_config_path, 'use_kinematic': True, 'sim_cfg': train_sim_cfg}\n",
        "env = make_vec_env(\"L5-CLE-v0\", env_kwargs=env_kwargs, n_envs=train_envs,\n",
        "                   vec_env_cls=SubprocVecEnv, vec_env_kwargs={\"start_method\": \"fork\"})\n",
        "\n",
        "# make eval env\n",
        "validation_sim_cfg = SimulationConfigGym()\n",
        "validation_sim_cfg.num_simulation_steps = None\n",
        "eval_env_kwargs = {'env_config_path': env_config_path, 'use_kinematic': True, \\\n",
        "                   'return_info': True, 'train': False, 'sim_cfg': validation_sim_cfg}\n",
        "eval_env = make_vec_env(\"L5-CLE-v0\", env_kwargs=eval_env_kwargs, n_envs=eval_envs,\n",
        "                        vec_env_cls=SubprocVecEnv, vec_env_kwargs={\"start_method\": \"fork\"})"
      ]
    },
    {
      "cell_type": "code",
      "execution_count": null,
      "id": "4da5ac39",
      "metadata": {
        "id": "4da5ac39"
      },
      "outputs": [],
      "source": [
        "# A simple 2 Layer CNN architecture with group normalization\n",
        "model_arch = 'simple_gn'\n",
        "features_dim = 128\n",
        "\n",
        "# Custom Feature Extractor backbone\n",
        "policy_kwargs = {\n",
        "    \"features_extractor_class\": CustomFeatureExtractor,\n",
        "    \"features_extractor_kwargs\": {\"features_dim\": features_dim, \"model_arch\": model_arch},\n",
        "    \"normalize_images\": False\n",
        "}"
      ]
    },
    {
      "cell_type": "code",
      "execution_count": null,
      "id": "dc28b605",
      "metadata": {
        "id": "dc28b605"
      },
      "outputs": [],
      "source": [
        "# Clipping schedule of PPO epsilon parameter\n",
        "start_val = 0.1\n",
        "end_val = 0.01\n",
        "training_progress_ratio = 1.0\n",
        "clip_schedule = get_linear_fn(start_val, end_val, training_progress_ratio)"
      ]
    },
    {
      "cell_type": "code",
      "execution_count": null,
      "id": "998a927f",
      "metadata": {
        "id": "998a927f"
      },
      "outputs": [],
      "source": [
        "# Setting hyperparameters for PPO\n",
        "lr = 3e-4\n",
        "num_rollout_steps = 256\n",
        "gamma = 0.8\n",
        "gae_lambda = 0.9\n",
        "n_epochs = 10\n",
        "seed = 42\n",
        "batch_size = 64\n",
        "tensorboard_log = 'tb_log'"
      ]
    },
    {
      "cell_type": "code",
      "execution_count": null,
      "id": "d474019b",
      "metadata": {
        "id": "d474019b"
      },
      "outputs": [],
      "source": [
        "# define reinforcement learning model\n",
        "model = PPO(\"CnnPolicy\", env, policy_kwargs=policy_kwargs, verbose=1, n_steps=num_rollout_steps,\n",
        "            learning_rate=lr, gamma=gamma, tensorboard_log=tensorboard_log, n_epochs=n_epochs,\n",
        "            clip_range=clip_schedule, batch_size=batch_size, seed=seed, gae_lambda=gae_lambda)"
      ]
    },
    {
      "cell_type": "code",
      "execution_count": null,
      "id": "f19803ea",
      "metadata": {
        "id": "f19803ea"
      },
      "outputs": [],
      "source": [
        "#Saving checkpoints\n",
        "callback_list = []\n",
        "\n",
        "save_freq = 100000\n",
        "save_path = './logs/'\n",
        "output = 'PPO'\n",
        "checkpoint_callback = CheckpointCallback(save_freq=(save_freq // train_envs), save_path=save_path, \\\n",
        "                                         name_prefix=output)\n",
        "callback_list.append(checkpoint_callback)\n",
        "\n",
        "# Eval Model Periodically\n",
        "eval_freq = 100000\n",
        "n_eval_episodes = 1\n",
        "val_eval_callback = L5KitEvalCallback(eval_env, eval_freq=(eval_freq // train_envs), \\\n",
        "                                      n_eval_episodes=n_eval_episodes, n_eval_envs=eval_envs)\n",
        "callback_list.append(val_eval_callback)\n"
      ]
    },
    {
      "cell_type": "code",
      "execution_count": null,
      "id": "087f4e09",
      "metadata": {
        "id": "087f4e09"
      },
      "outputs": [],
      "source": [
        "#Training phase\n",
        "n_steps = 10000\n",
        "model.learn(n_steps, callback=callback_list)\n"
      ]
    },
    {
      "cell_type": "code",
      "execution_count": null,
      "id": "fcd2b424",
      "metadata": {
        "id": "fcd2b424"
      },
      "outputs": [],
      "source": [
        "#Prediction for scene\n",
        "rollout_sim_cfg = SimulationConfigGym()\n",
        "rollout_sim_cfg.num_simulation_steps = None\n",
        "rollout_env = gym.make(\"L5-CLE-v0\", env_config_path=env_config_path, sim_cfg=rollout_sim_cfg, \\\n",
        "                       use_kinematic=True, train=False, return_info=True)\n",
        "\n",
        "#Rollout a scene\n",
        "def rollout_episode(model, env, idx = 0):\n",
        "\n",
        "    # Set the reset_scene_id to 'idx'\n",
        "    env.reset_scene_id = idx\n",
        "    \n",
        "    # Rollout step-by-step\n",
        "    obs = env.reset()\n",
        "    done = False\n",
        "    while True:\n",
        "        action, _ = model.predict(obs, deterministic=True)\n",
        "        obs, _, done, info = env.step(action)\n",
        "        if done:\n",
        "            break\n",
        "\n",
        "    # The episode outputs are present in the key \"sim_outs\"\n",
        "    sim_out = info[\"sim_outs\"][0]\n",
        "    return sim_out\n",
        "\n",
        "# Rollout one episode\n",
        "sim_out = rollout_episode(model, rollout_env)"
      ]
    },
    {
      "cell_type": "code",
      "execution_count": null,
      "id": "7e383cff",
      "metadata": {
        "id": "7e383cff"
      },
      "outputs": [],
      "source": [
        "# Visualize output\n",
        "map_API = rollout_env.dataset.rasterizer.sem_rast.mapAPI\n",
        "\n",
        "def visualize_outputs(sim_outs, map_API):\n",
        "    for sim_out in sim_outs: # for each scene\n",
        "        vis_in = episode_out_to_visualizer_scene_gym_cle(sim_out, map_API)\n",
        "        show(visualize(sim_out.scene_id, vis_in))\n",
        "\n",
        "output_notebook()\n",
        "visualize_outputs([sim_out], map_API)"
      ]
    }
  ],
  "metadata": {
    "colab": {
      "name": "ppo_policy_training.ipynb",
      "provenance": []
    },
    "kernelspec": {
      "display_name": "Python 3 (ipykernel)",
      "language": "python",
      "name": "python3"
    },
    "language_info": {
      "codemirror_mode": {
        "name": "ipython",
        "version": 3
      },
      "file_extension": ".py",
      "mimetype": "text/x-python",
      "name": "python",
      "nbconvert_exporter": "python",
      "pygments_lexer": "ipython3",
      "version": "3.9.1"
    }
  },
  "nbformat": 4,
  "nbformat_minor": 5
}
